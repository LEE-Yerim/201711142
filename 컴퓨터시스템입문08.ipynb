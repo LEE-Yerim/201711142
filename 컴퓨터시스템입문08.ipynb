{
  "nbformat": 4,
  "nbformat_minor": 0,
  "metadata": {
    "colab": {
      "name": "컴퓨터시스템입문08.ipynb",
      "provenance": [],
      "collapsed_sections": [],
      "authorship_tag": "ABX9TyPygRVQQsDSgkus9Pi58+pj",
      "include_colab_link": true
    },
    "kernelspec": {
      "name": "python3",
      "display_name": "Python 3"
    },
    "language_info": {
      "name": "python"
    }
  },
  "cells": [
    {
      "cell_type": "markdown",
      "metadata": {
        "id": "view-in-github",
        "colab_type": "text"
      },
      "source": [
        "<a href=\"https://colab.research.google.com/github/plumwiserim/Python-Programming/blob/master/%EC%BB%B4%ED%93%A8%ED%84%B0%EC%8B%9C%EC%8A%A4%ED%85%9C%EC%9E%85%EB%AC%B808.ipynb\" target=\"_parent\"><img src=\"https://colab.research.google.com/assets/colab-badge.svg\" alt=\"Open In Colab\"/></a>"
      ]
    },
    {
      "cell_type": "markdown",
      "source": [
        "## 실습\n",
        "- 2차원 공간에서 모든 변이 수직 수평인 Box와 어떤 질문 점(query point) Q가 있다. \n",
        "  - 이 박스 B에 질문 점 Q의 내부에 완전히 들어가 있으면 \"IN\", 경계선 위에 있으면 \"ON\", 완전히 밖에 있으면 \"OUT\"을 출력하는 프로그램을 작성하시오.\n",
        "  - 그림은 3가지 경우의 다양한 예를 보여주고 있다. \n",
        "  - 박스 B는 왼쪽 아래 꼭짓점과 오른쪽 위 꼭짓점 좌표를 나타내는 4개의 정수로 표현된다. \n",
        "  - 좌표는 모두 1사분면에 존재한다. \n",
        "\n",
        "[소스코드보기]()"
      ],
      "metadata": {
        "id": "_CqBKirpHhPK"
      }
    },
    {
      "cell_type": "markdown",
      "source": [
        "## 실습\n",
        "- 동전줍기대회 규칙은 다음과 같습니다. \n",
        "  - 각 참가자 앞에 동전은 일렬로 놓여 있으며 각 동전은 줍거나 줍지 않을 수 있습니다. \n",
        "  - 이때, 서로 떨어져 있는 동전은 주울 수 없으며 주운 동전들은 모두 일렬 순서대로 연속되어야 합니다. \n",
        "  - 동전 중에는 음의 가치를 가지는 동전도 있습니다. \n",
        "  - 대회가 끝나면 각 참가자들은 자신이 주운 동전들의 가치의 합에 해당하는 상금을 받습니다. \n",
        "  - 주운 동전들의 가치의 합이 음수라면 오히려 돈을 내야 합니다. \n",
        "  - 예를 들면 동전이 6개 있고 10, -5, 3, 2, 4, -7 순서로 놓여져 있다고 가정하면\n",
        "  - 누적합을 구하면 10, 5, 8, 10, 14, 7이 되므로 누적합이 14가 되었을 때 동전 줍기를 멈추면 최대 상금을 받을 수 있습니다. \n",
        "  - 입력\n",
        "    - 첫줄에는 동전의 개수 N이 주어집니다. \n",
        "    - 둘쨰줄에는 각 동전의 가치가 정수로 주어집니다. \n",
        "  - 출력\n",
        "    - 최대 상금 출력\n",
        "\n",
        "[소스코드보기]()"
      ],
      "metadata": {
        "id": "0VnvNmsnIZ7y"
      }
    }
  ]
}
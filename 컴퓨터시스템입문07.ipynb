{
  "nbformat": 4,
  "nbformat_minor": 0,
  "metadata": {
    "colab": {
      "name": "컴퓨터시스템입문07.ipynb",
      "provenance": [],
      "collapsed_sections": [],
      "authorship_tag": "ABX9TyN2/3G9hAxFiNC34aUVWMjy",
      "include_colab_link": true
    },
    "kernelspec": {
      "name": "python3",
      "display_name": "Python 3"
    },
    "language_info": {
      "name": "python"
    }
  },
  "cells": [
    {
      "cell_type": "markdown",
      "metadata": {
        "id": "view-in-github",
        "colab_type": "text"
      },
      "source": [
        "<a href=\"https://colab.research.google.com/github/plumwiserim/Python-Programming/blob/master/%EC%BB%B4%ED%93%A8%ED%84%B0%EC%8B%9C%EC%8A%A4%ED%85%9C%EC%9E%85%EB%AC%B807.ipynb\" target=\"_parent\"><img src=\"https://colab.research.google.com/assets/colab-badge.svg\" alt=\"Open In Colab\"/></a>"
      ]
    },
    {
      "cell_type": "markdown",
      "source": [
        "## Pandas 열/행 선택\n",
        "\n"
      ],
      "metadata": {
        "id": "tCHxwlLRf7Ss"
      }
    },
    {
      "cell_type": "code",
      "execution_count": null,
      "metadata": {
        "id": "01GrByRGfstp"
      },
      "outputs": [],
      "source": [
        "import pandas as pd\n",
        "\n",
        "df = pd.read_csv('test.csv')\n",
        "print(df)\n",
        "\n",
        "#열선택\n",
        "df2 = df['지역']\n",
        "print(df2)\n",
        "\n",
        "df3 = df[['지역', '201804']]\n",
        "print(df3)\n",
        "\n",
        "#행선택\n",
        "df4 = df.head()\n",
        "print(df4)\n",
        "\n",
        "df5 = df.tail(n=2)\n",
        "print(df5)\n",
        "\n",
        "df6 = df.loc[[10, 11]]\n",
        "print(df6)\n",
        "\n",
        "df7 = df.loc[10:13, ['시도', '지역', '201804']]\n",
        "print(df7)\n",
        "\n",
        "#csv 출력\n",
        "df7.to_csv('test.csv')\n",
        "\n",
        "df8 = df.iloc[10:13, 2:4]\n",
        "print(df8)\n",
        "\n",
        "#조건 선택\n",
        "df9 = df[(df['시도']=='경기')&(df['201804']>60)]\n",
        "print(df9)"
      ]
    },
    {
      "cell_type": "markdown",
      "source": [
        "## Pandas 통계\n",
        "\n"
      ],
      "metadata": {
        "id": "tio_VAnjf2Rv"
      }
    },
    {
      "cell_type": "code",
      "source": [
        "import pandas as pd\n",
        "\n",
        "df = pd.read_csv('test.csv')\n",
        "\n",
        "#행 평균 : axis=1\n",
        "df['avg'] = df.iloc[:, 2:8].mean(axis=1)\n",
        "print(df)\n",
        "\n",
        "#열 평균 : axis=0\n",
        "df1 = df.mean(axis=0)\n",
        "print(df1)\n",
        "\n",
        "#그룹 평균\n",
        "dfsi = df.groupby('시도')[['201804', '201805']].mean()\n",
        "print(dfsi)"
      ],
      "metadata": {
        "id": "4mEPZJl6yAFB"
      },
      "execution_count": null,
      "outputs": []
    },
    {
      "cell_type": "markdown",
      "source": [
        "## Pandas 시각화\n"
      ],
      "metadata": {
        "id": "YxsGUfhGf3Mx"
      }
    },
    {
      "cell_type": "code",
      "source": [
        "#https://matplotlib.org\n",
        "import pandas as pd\n",
        "import matplotlib.pyplot as plt\n",
        "\n",
        "#한글 폰트 사용\n",
        "from matplotlib import font_manager, rc\n",
        "font_name = font_manager.FontProperties(fname=\"c:/Windows/Fonts/malgun.ttf\").get_name()\n",
        "rc('font', family=font_name)\n",
        "\n",
        "df = pd.read_cvs('si.csv')\n",
        "\n",
        "plt.plot(df['시'], df['평균'], 'bo-')\n",
        "plt.xlabel('시')\n",
        "plt.ylabel('평균')\n",
        "\n",
        "plt.title(\"지역별 미세먼지 평균\")\n",
        "\n",
        "plt.show()"
      ],
      "metadata": {
        "id": "9pNKJopsyUI4"
      },
      "execution_count": null,
      "outputs": []
    },
    {
      "cell_type": "code",
      "source": [
        "#https://matplotlib.org\n",
        "import pandas as pd\n",
        "import matplotlib.pyplot as plt\n",
        "\n",
        "#한글 폰트 사용\n",
        "from matplotlib import font_manager, rc\n",
        "font_name = font_manager.FontProperties(fname=\"c:/Windows/Fonts/malgun.ttf\").get_name()\n",
        "rc('font', family=font_name)\n",
        "\n",
        "df = pd.read_csv('test3.csv')\n",
        "\n",
        "df = df.set_index('시도')\n",
        "\n",
        "df.plot(kind='bar')\n",
        "plt.show()"
      ],
      "metadata": {
        "id": "02B9OcbEHE9s"
      },
      "execution_count": null,
      "outputs": []
    }
  ]
}
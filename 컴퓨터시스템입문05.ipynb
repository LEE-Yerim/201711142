{
  "nbformat": 4,
  "nbformat_minor": 0,
  "metadata": {
    "colab": {
      "name": "컴퓨터시스템입문05.ipynb",
      "provenance": [],
      "collapsed_sections": [],
      "authorship_tag": "ABX9TyOwU8uW0USW3PFsC/UlvyBK",
      "include_colab_link": true
    },
    "kernelspec": {
      "name": "python3",
      "display_name": "Python 3"
    },
    "language_info": {
      "name": "python"
    }
  },
  "cells": [
    {
      "cell_type": "markdown",
      "metadata": {
        "id": "view-in-github",
        "colab_type": "text"
      },
      "source": [
        "<a href=\"https://colab.research.google.com/github/plumwiserim/Python-Programming/blob/master/%EC%BB%B4%ED%93%A8%ED%84%B0%EC%8B%9C%EC%8A%A4%ED%85%9C%EC%9E%85%EB%AC%B805.ipynb\" target=\"_parent\"><img src=\"https://colab.research.google.com/assets/colab-badge.svg\" alt=\"Open In Colab\"/></a>"
      ]
    },
    {
      "cell_type": "markdown",
      "source": [
        "## 함수\n",
        "- 특정 기능을 하나로 묶어서 따로 관리하기 위해 사용\n",
        "  - 반복되는 내용을 효율적으로 처리\n",
        "  - 코드의 가독성을 높임\n",
        "- 함수 구조"
      ],
      "metadata": {
        "id": "flOjonrMe8sz"
      }
    },
    {
      "cell_type": "code",
      "source": [
        "# 함수 정의하기\n",
        "def gugu(dan):\n",
        "  for i in range(1, 10):\n",
        "    print(dan, \"x\", i, \"=\", (dan*i))\n",
        "dan = int(input(\"단을 입력하세요=>\"))\n",
        "gugu(dan)"
      ],
      "metadata": {
        "colab": {
          "base_uri": "https://localhost:8080/"
        },
        "id": "1MWyMjd5r2UG",
        "outputId": "8d915b79-ffad-4c9d-ddba-d1b71d845d3c"
      },
      "execution_count": 1,
      "outputs": [
        {
          "output_type": "stream",
          "name": "stdout",
          "text": [
            "단을 입력하세요=>2\n",
            "2 x 1 = 2\n",
            "2 x 2 = 4\n",
            "2 x 3 = 6\n",
            "2 x 4 = 8\n",
            "2 x 5 = 10\n",
            "2 x 6 = 12\n",
            "2 x 7 = 14\n",
            "2 x 8 = 16\n",
            "2 x 9 = 18\n"
          ]
        }
      ]
    },
    {
      "cell_type": "markdown",
      "source": [
        "## 함수 매개변수와 반환값"
      ],
      "metadata": {
        "id": "UrDkiwNSfATX"
      }
    },
    {
      "cell_type": "code",
      "source": [
        "# 반환 값 없음\n",
        "\n",
        "def cal(num1, num2, op) : \n",
        "  ans = 0\n",
        "  if op == \"+\" : ans = num1 + num2\n",
        "  elif op == \"-\" : ans = num1 + num2\n",
        "  elif op == \"*\" : ans = num1 * num2\n",
        "  elif op == \"/\" : ans = num1 / num2\n",
        "\n",
        "  print(num1, op, num2, \"=\", ans)\n",
        "\n",
        "if __name__ == \"__main__\" :\n",
        "  while(True):\n",
        "    num1 = int(input(\"숫자를 입력하세요=>\"))\n",
        "    num2 = int(input(\"숫자를 입력하세요=>\"))\n",
        "    op = input(\"연산자를 입력하세요(+, -, *, /)=>\")\n",
        "\n",
        "    if (op not in [\"+\", \"-\", \"*\", \"/\"]) : break\n",
        "\n",
        "    cal(num1, num2, op)"
      ],
      "metadata": {
        "colab": {
          "base_uri": "https://localhost:8080/"
        },
        "id": "V3OQf7-esD30",
        "outputId": "b9aa993e-f846-445e-9ad4-a17104ebc54f"
      },
      "execution_count": 2,
      "outputs": [
        {
          "name": "stdout",
          "output_type": "stream",
          "text": [
            "숫자를 입력하세요=>1\n",
            "숫자를 입력하세요=>2\n",
            "연산자를 입력하세요(+, -, *, /)=>+\n",
            "1 + 2 = 3\n",
            "숫자를 입력하세요=>6\n",
            "숫자를 입력하세요=>2\n",
            "연산자를 입력하세요(+, -, *, /)=>;\n"
          ]
        }
      ]
    },
    {
      "cell_type": "code",
      "source": [
        "# 반환 값 1개\n",
        "\n",
        "def cal(num1, num2, op) : \n",
        "  ans = 0\n",
        "  if op == \"+\" : ans = num1 + num2\n",
        "  elif op == \"-\" : ans = num1 + num2\n",
        "  elif op == \"*\" : ans = num1 * num2\n",
        "  elif op == \"/\" : ans = num1 / num2\n",
        "\n",
        "  return ans\n",
        "\n",
        "if __name__ == \"__main__\" :\n",
        "  while(True):\n",
        "    num1 = int(input(\"숫자를 입력하세요=>\"))\n",
        "    num2 = int(input(\"숫자를 입력하세요=>\"))\n",
        "    op = input(\"연산자를 입력하세요(+, -, *, /)=>\")\n",
        "\n",
        "    if (op not in [\"+\", \"-\", \"*\", \"/\"]) : break\n",
        "\n",
        "    print(num1, op, num2, \"=\", cal(num1, num2, op))"
      ],
      "metadata": {
        "id": "-IkR71Z9tFMY"
      },
      "execution_count": null,
      "outputs": []
    },
    {
      "cell_type": "code",
      "source": [
        "# 반환 값 2개\n",
        "\n",
        "def cal(num1, num2, op) : \n",
        "  ans = 0\n",
        "  if op == \"+\" : ans = num1 + num2\n",
        "  elif op == \"-\" : ans = num1 + num2\n",
        "  elif op == \"*\" : ans = num1 * num2\n",
        "  elif op == \"/\" : ans = num1 / num2\n",
        "\n",
        "  strans = str(num1) + op + str(num2) + \"=\"\n",
        "  return strans, ans\n",
        "\n",
        "if __name__ == \"__main__\" :\n",
        "  while(True):\n",
        "    num1 = int(input(\"숫자를 입력하세요=>\"))\n",
        "    num2 = int(input(\"숫자를 입력하세요=>\"))\n",
        "    op = input(\"연산자를 입력하세요(+, -, *, /)=>\")\n",
        "\n",
        "    if (op not in [\"+\", \"-\", \"*\", \"/\"]) : break\n",
        "\n",
        "    strans, ans = cal(num1, num2, op)\n",
        "    print(strans, ans)"
      ],
      "metadata": {
        "id": "zBufFKtfuOF4"
      },
      "execution_count": null,
      "outputs": []
    },
    {
      "cell_type": "markdown",
      "source": [
        "## 함수의 가변 매개변수"
      ],
      "metadata": {
        "id": "3nK3w0A8fCuN"
      }
    },
    {
      "cell_type": "code",
      "source": [
        "# *매개변수 : 튜플\n",
        "\n",
        "def sum(*arg) : \n",
        "  s = 0\n",
        "  for i in arg : \n",
        "    s = s + i\n",
        "  return s\n",
        "\n",
        "if __name__ == \"__main__\" :\n",
        "  print(sum(1, 2))\n",
        "  print(sum(1, 2, 3))\n",
        "  print(sum(10, 40, 20, 80))"
      ],
      "metadata": {
        "colab": {
          "base_uri": "https://localhost:8080/"
        },
        "id": "slezTO1HuhYE",
        "outputId": "fe953ad6-9720-4fe2-8f2d-c3cf15907ffc"
      },
      "execution_count": 5,
      "outputs": [
        {
          "output_type": "stream",
          "name": "stdout",
          "text": [
            "3\n",
            "6\n",
            "150\n"
          ]
        }
      ]
    },
    {
      "cell_type": "code",
      "source": [
        "# ** 매개변수 : 딕셔너리\n",
        "\n",
        "def show(**arg) : \n",
        "  print(arg)\n",
        "  for key, value in arg.items():\n",
        "    print(key, \":\", value)\n",
        "\n",
        "if __name__ == \"__main__\" :\n",
        "  show(a=1, b=2)\n",
        "\n",
        "  d = {'a':10, 'b':20}\n",
        "  show(**d)"
      ],
      "metadata": {
        "colab": {
          "base_uri": "https://localhost:8080/"
        },
        "id": "07R2xW9cu1As",
        "outputId": "d04d43e1-30c9-4cbc-bf5e-1d1053357feb"
      },
      "execution_count": 6,
      "outputs": [
        {
          "output_type": "stream",
          "name": "stdout",
          "text": [
            "{'a': 1, 'b': 2}\n",
            "a : 1\n",
            "b : 2\n",
            "{'a': 10, 'b': 20}\n",
            "a : 10\n",
            "b : 20\n"
          ]
        }
      ]
    },
    {
      "cell_type": "markdown",
      "source": [
        "## 실습\n",
        "- 문자열을 입력받아 회문인지 확인하시오.\n",
        "  - 단 q를 받을 때까지 계속 입력받으시오.\n",
        "\n",
        "[소스코드보기]()\n"
      ],
      "metadata": {
        "id": "F2T7KdRWfEfF"
      }
    },
    {
      "cell_type": "markdown",
      "source": [
        "## Extended Slices\n",
        "- arr[A:B:C]의 의미\n",
        "  - index A부터 index B까지 C의 간격으로 배열을 만들어라\n",
        "  - A가 None이라면, 처음부터\n",
        "  - B가 None이라면, 할 수 있는 데까지\n",
        "    - C가 양수라면 마지막 index까지\n",
        "    - C가 음수라면 첫 index까지\n",
        "  - C가 None이라면 한 칸 가격\n",
        "- 예\n",
        "  - arr[::2] #처음부터 끝까지 두 칸 간격으로\n",
        "  - arr[::-1] #처음부터 끝까지 역순으로"
      ],
      "metadata": {
        "id": "hCtzmwKzfGLD"
      }
    },
    {
      "cell_type": "markdown",
      "source": [
        "## 모듈\n",
        "- 함수나 변수 또는 클래스들을 모아놓은 파일\n",
        "- 다른 파이썬 프로그램에서 불러와 사용할 수 있게끔 만들어진 파이썬 파일"
      ],
      "metadata": {
        "id": "qIYhv1DzfIm8"
      }
    },
    {
      "cell_type": "markdown",
      "source": [
        "## 람다(lambda)함수\n",
        "- 익명 함수를 의미\n",
        "- 함수의 이름을 작성할 필요가 없이 사용이 가능\n",
        "- 람다 함수 내부의 로직은 한 줄로 작성\n",
        "- 형식\n",
        "  - (lambda [매개변수]: 리턴값을 포함한 알고리즘)([매개변수 값])"
      ],
      "metadata": {
        "id": "W7yjsMRxfLeb"
      }
    },
    {
      "cell_type": "code",
      "source": [
        "add = lambda a, b : a + b\n",
        "\n",
        "print(add(10, 20))\n",
        "print(add(100, 200))\n",
        "\n",
        "add = (lambda a, b : a + b)(100, 200)\n",
        "\n",
        "print(add)"
      ],
      "metadata": {
        "colab": {
          "base_uri": "https://localhost:8080/"
        },
        "id": "AfsGcTyxvO8L",
        "outputId": "ad1639d4-dbca-4cdd-bfc6-cb06fb9b31e0"
      },
      "execution_count": 7,
      "outputs": [
        {
          "output_type": "stream",
          "name": "stdout",
          "text": [
            "30\n",
            "300\n",
            "300\n"
          ]
        }
      ]
    },
    {
      "cell_type": "markdown",
      "source": [
        "## 실습\n",
        "- 금정구약수터 수질 검사 파일을 읽어서 딕셔너리를 만들고 수질 검사 결과를 출력하시오.\n",
        "  - 텍스트 파일을 읽어서 딕셔너리를 만드는 fileToDic(파일명) 함수를 작성\n",
        "\n",
        "[소스코드보기]()"
      ],
      "metadata": {
        "id": "OMKwtD6MfNct"
      }
    }
  ]
}
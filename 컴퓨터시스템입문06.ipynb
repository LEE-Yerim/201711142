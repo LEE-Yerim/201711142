{
  "nbformat": 4,
  "nbformat_minor": 0,
  "metadata": {
    "colab": {
      "name": "컴퓨터시스템입문06.ipynb",
      "provenance": [],
      "collapsed_sections": [],
      "authorship_tag": "ABX9TyPUOcIkWM9oPq/pV3GVKqgJ",
      "include_colab_link": true
    },
    "kernelspec": {
      "name": "python3",
      "display_name": "Python 3"
    },
    "language_info": {
      "name": "python"
    }
  },
  "cells": [
    {
      "cell_type": "markdown",
      "metadata": {
        "id": "view-in-github",
        "colab_type": "text"
      },
      "source": [
        "<a href=\"https://colab.research.google.com/github/plumwiserim/Python-Programming/blob/master/%EC%BB%B4%ED%93%A8%ED%84%B0%EC%8B%9C%EC%8A%A4%ED%85%9C%EC%9E%85%EB%AC%B806.ipynb\" target=\"_parent\"><img src=\"https://colab.research.google.com/assets/colab-badge.svg\" alt=\"Open In Colab\"/></a>"
      ]
    },
    {
      "cell_type": "markdown",
      "source": [
        "## 파이썬 패키지\n",
        "- 모듈\n",
        "  - 하나의 .py 파일을 가리킴\n",
        "- 패키지\n",
        "  - 모듈들을 모은 컬렉션을 가리킴\n",
        "  - 하나의 디렉토리에 놓여진 모듈들의 집합\n",
        "  - 일반적으로 __init__.py 라는 패키지 초기화 파일이 존재\n",
        "    - Python 3.3 이후부터는 init 파일이 없어도 패키지로 인식이 가능"
      ],
      "metadata": {
        "id": "w2eow7KWfWP7"
      }
    },
    {
      "cell_type": "markdown",
      "source": [
        "## pip관리자\n",
        "- pip\n",
        "  - 파이썬으로 작성된 패키지 소프트웨어를 설치, 관리하는 패키지 관리 시스템\n",
        "  - 패키지 설치\n",
        "  - 패키지 삭제\n",
        "  - 설치 패키지 확인"
      ],
      "metadata": {
        "id": "bTOGfG3DfYBa"
      }
    },
    {
      "cell_type": "markdown",
      "source": [
        "## Pandas(Python Data Analysis Library)\n",
        "- dataframe을 주로 다루기 위한 라이브러리\n",
        "- 테이블 형식의 데이터(tabular, rectangular grid 등으로 불림)를 다룰 때 사용\n",
        "- import pandas"
      ],
      "metadata": {
        "id": "SkEvvWTnfbPa"
      }
    },
    {
      "cell_type": "markdown",
      "source": [
        "## Pandas Series\n",
        "- 가장 간단한 1차원 자료구조\n",
        "  - 배열/리스트와 같은 일련의 시퀀스 데이타를 받아들이는데, 별도의 인덱스 레이블을 지정하지 않으면 자동적으로 0부터 시작되는 디폴트 정수 인덱스를 사용"
      ],
      "metadata": {
        "id": "HvMhqnopfdW9"
      }
    },
    {
      "cell_type": "code",
      "source": [
        "import pandas as pd\n",
        "\n",
        "data = range(10)\n",
        "\n",
        "pddata = pd.Series(data)\n",
        "print(pddata)\n",
        "\n",
        "print(\"2번째 요소 => \", pddata[1])"
      ],
      "metadata": {
        "colab": {
          "base_uri": "https://localhost:8080/"
        },
        "id": "5PV6bNSxvdtQ",
        "outputId": "b67a7275-a4c3-4200-e322-39df713c2c3d"
      },
      "execution_count": 1,
      "outputs": [
        {
          "output_type": "stream",
          "name": "stdout",
          "text": [
            "0    0\n",
            "1    1\n",
            "2    2\n",
            "3    3\n",
            "4    4\n",
            "5    5\n",
            "6    6\n",
            "7    7\n",
            "8    8\n",
            "9    9\n",
            "dtype: int64\n",
            "2번째 요소 =>  1\n"
          ]
        }
      ]
    },
    {
      "cell_type": "markdown",
      "source": [
        "## Pandas DataFrame\n",
        "- 2차원 자료구조인 DataFrame은 행과 열이 있는 테이블 데이터(Tabular Data)\n"
      ],
      "metadata": {
        "id": "Uj5_6_zVffsN"
      }
    },
    {
      "cell_type": "code",
      "source": [
        "import pandas as pd\n",
        "\n",
        "data = {\n",
        "    'area1': ['서울', '경기', '경기', '강원', '강원'], \n",
        "    'area2': ['서울', '수원', '안양', '춘천', '강릉'], \n",
        "    '2018.04': [52, 52, 61, 57, 47]\n",
        "}\n",
        "\n",
        "df = pd.DataFrame(data)\n",
        "\n",
        "print(df)\n",
        "print('1개 열 추출 : \\n', df['2018.04'])\n",
        "print('2개 열 추출 : \\n', df[['area1', '2018.04']])\n",
        "print('1개 행 추출 : \\n', df.loc[3])\n",
        "print('2개 행 추출 : \\n', df.loc[[0, 3]])\n",
        "\n",
        "print(df.head(n=2))\n",
        "print(df.tail(n=2))"
      ],
      "metadata": {
        "colab": {
          "base_uri": "https://localhost:8080/"
        },
        "id": "1HOCyUMlv_IU",
        "outputId": "4c58e06f-daf2-4530-853a-d2174607dc39"
      },
      "execution_count": 2,
      "outputs": [
        {
          "output_type": "stream",
          "name": "stdout",
          "text": [
            "  area1 area2  2018.04\n",
            "0    서울    서울       52\n",
            "1    경기    수원       52\n",
            "2    경기    안양       61\n",
            "3    강원    춘천       57\n",
            "4    강원    강릉       47\n",
            "1개 열 추출 : \n",
            " 0    52\n",
            "1    52\n",
            "2    61\n",
            "3    57\n",
            "4    47\n",
            "Name: 2018.04, dtype: int64\n",
            "2개 열 추출 : \n",
            "   area1  2018.04\n",
            "0    서울       52\n",
            "1    경기       52\n",
            "2    경기       61\n",
            "3    강원       57\n",
            "4    강원       47\n",
            "1개 행 추출 : \n",
            " area1      강원\n",
            "area2      춘천\n",
            "2018.04    57\n",
            "Name: 3, dtype: object\n",
            "2개 행 추출 : \n",
            "   area1 area2  2018.04\n",
            "0    서울    서울       52\n",
            "3    강원    춘천       57\n",
            "  area1 area2  2018.04\n",
            "0    서울    서울       52\n",
            "1    경기    수원       52\n",
            "  area1 area2  2018.04\n",
            "3    강원    춘천       57\n",
            "4    강원    강릉       47\n"
          ]
        }
      ]
    },
    {
      "cell_type": "markdown",
      "source": [
        "- 슬라이싱\n"
      ],
      "metadata": {
        "id": "NqGP8BkGwrKH"
      }
    },
    {
      "cell_type": "code",
      "source": [
        "subset = df.loc[:,['area2', '2018.04']]\n",
        "print(subset)\n",
        "\n",
        "subset = df.iloc[:,[1,2]]\n",
        "print(subset)\n",
        "\n",
        "subset = df.loc[[0,3],['area2', '2018.04']]\n",
        "print(subset)\n",
        "\n",
        "subset = df.iloc[2:4, 0:2]\n",
        "print(subset)"
      ],
      "metadata": {
        "colab": {
          "base_uri": "https://localhost:8080/"
        },
        "id": "hF0GEux-wsMf",
        "outputId": "ca779c70-6c56-4b12-b8d6-6afd6750e30f"
      },
      "execution_count": 3,
      "outputs": [
        {
          "output_type": "stream",
          "name": "stdout",
          "text": [
            "  area2  2018.04\n",
            "0    서울       52\n",
            "1    수원       52\n",
            "2    안양       61\n",
            "3    춘천       57\n",
            "4    강릉       47\n",
            "  area2  2018.04\n",
            "0    서울       52\n",
            "1    수원       52\n",
            "2    안양       61\n",
            "3    춘천       57\n",
            "4    강릉       47\n",
            "  area2  2018.04\n",
            "0    서울       52\n",
            "3    춘천       57\n",
            "  area1 area2\n",
            "2    경기    안양\n",
            "3    강원    춘천\n"
          ]
        }
      ]
    },
    {
      "cell_type": "markdown",
      "source": [
        "## Pandas 외부데이터 가져오기\n",
        "- csv 읽기\n",
        "- csv 쓰기"
      ],
      "metadata": {
        "id": "Ruc9eA5ffhjw"
      }
    },
    {
      "cell_type": "code",
      "source": [
        "import pandas as pd\n",
        "df = pd.read_csv('test.csv')\n",
        "\n",
        "df1 = df.loc[df['시도']=='경기']\n",
        "print(df1)\n",
        "\n",
        "df1.to_csv('경기.csv')\n",
        "\n",
        "df['avg'] = df.iloc[:, 2:7].mean(axis=1)\n",
        "print(df)\n",
        "\n",
        "dfg1 = round(df.groupby('시도')['avg'].mean(), 2)\n",
        "print(dfg1)"
      ],
      "metadata": {
        "id": "_TWkynLbflKA"
      },
      "execution_count": null,
      "outputs": []
    }
  ]
}
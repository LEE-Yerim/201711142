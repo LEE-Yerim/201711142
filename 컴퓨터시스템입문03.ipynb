{
  "nbformat": 4,
  "nbformat_minor": 0,
  "metadata": {
    "colab": {
      "name": "컴퓨터시스템입문03.ipynb",
      "provenance": [],
      "collapsed_sections": [],
      "authorship_tag": "ABX9TyP1NNGED+GgIBLK0XOwL62u",
      "include_colab_link": true
    },
    "kernelspec": {
      "name": "python3",
      "display_name": "Python 3"
    },
    "language_info": {
      "name": "python"
    }
  },
  "cells": [
    {
      "cell_type": "markdown",
      "metadata": {
        "id": "view-in-github",
        "colab_type": "text"
      },
      "source": [
        "<a href=\"https://colab.research.google.com/github/plumwiserim/Python-Programming/blob/master/%EC%BB%B4%ED%93%A8%ED%84%B0%EC%8B%9C%EC%8A%A4%ED%85%9C%EC%9E%85%EB%AC%B803.ipynb\" target=\"_parent\"><img src=\"https://colab.research.google.com/assets/colab-badge.svg\" alt=\"Open In Colab\"/></a>"
      ]
    },
    {
      "cell_type": "markdown",
      "source": [
        "## 변수와 자료형\n",
        "- 변수 \n",
        "  - 값을 저장하는 공간\n",
        "- 변수명\n",
        "  - 숫자, 알파벳, 밑줄 기호(_), 한글 등 다양한 문자를 사용\n",
        "  - 연산자로 사용되는 기호(+, -, = 등)와 공백 문자()는 사용할 수 없음\n",
        "  - 숫자로 시작해서는 안됨\n",
        "  - 시스템 예약어(for, if, while 등)를 이름으로 사용할 수 없음\n",
        "- 변수 선언 및 초기화\n",
        "  - 자료형을 명시하지 않아도 자동으로 결정\n",
        "  - 자료형 확인"
      ],
      "metadata": {
        "id": "cYYtisOvdvov"
      }
    },
    {
      "cell_type": "code",
      "source": [
        "x = 3       # 정수형 변수 선언\n",
        "x = 1.3     # 실수형 변수 선언\n",
        "x = \"안녕\"  # 문자형 변수 선언\n",
        "x = True    # bool형 변수 선언\n",
        "x, y = 10, 20.5"
      ],
      "metadata": {
        "id": "uzRbWzv8jgj4"
      },
      "execution_count": 1,
      "outputs": []
    },
    {
      "cell_type": "markdown",
      "source": [
        "## 이스케이프 시퀀스(escape sequence)\n",
        "- \\와 특정 문자를 결합하여 문자를 표시해주는 문자"
      ],
      "metadata": {
        "id": "wSFbeiZFdyIJ"
      }
    },
    {
      "cell_type": "markdown",
      "source": [
        "## 문자열 연산"
      ],
      "metadata": {
        "id": "fFgCeZpXd0Bp"
      }
    },
    {
      "cell_type": "code",
      "source": [
        "str1 = \"Hello\"\n",
        "str2 = \"World!!\"\n",
        "\n",
        "#문자열 더하기\n",
        "print(str1 + str2)\n",
        "\n",
        "#문자열 곱하기\n",
        "print(\"=\" * 20)\n",
        "\n",
        "#문자열 길이 구하기\n",
        "print(len(str1))\n",
        "\n",
        "#문자열 인덱싱\n",
        "print(str1[0])\n",
        "print(str1[-1])\n",
        "\n",
        "#문자열 슬라이싱\n",
        "print(str1[1:4])  # 마지막 항목 제외\n",
        "print(str1[:3])   # 처음부터 추출 마지막 항목 제외\n",
        "print(str1[3:])   # 마지막까지 추출\n",
        "\n",
        "#문자열의 요소 값은 변경 불가\n",
        "#str1[0] = \"h\"    #오류"
      ],
      "metadata": {
        "colab": {
          "base_uri": "https://localhost:8080/"
        },
        "id": "D2PbrPmWjy4m",
        "outputId": "2c785e84-27b4-44e3-eaa2-d4a62e0c930c"
      },
      "execution_count": 2,
      "outputs": [
        {
          "output_type": "stream",
          "name": "stdout",
          "text": [
            "HelloWorld!!\n",
            "====================\n",
            "5\n",
            "H\n",
            "o\n",
            "ell\n",
            "Hel\n",
            "lo\n"
          ]
        }
      ]
    },
    {
      "cell_type": "markdown",
      "source": [
        "## 문자열 관련 함수"
      ],
      "metadata": {
        "id": "3l5H6OCBd122"
      }
    },
    {
      "cell_type": "code",
      "source": [
        "name = input(\"이름을 입력하세요.\")\n",
        "print(name)\n",
        "\n",
        "#문자열 길이\n",
        "print(len(name))\n",
        "\n",
        "#문자 갯수\n",
        "print(name.count(\"김 \"))\n",
        "\n",
        "#위치 찾기\n",
        "print(name.find(\"김 \"))   # 찾는 문자없으면 -1\n",
        "#print(name.index(\"김 \")) # 찾는 문자없으면 오류\n",
        "\n",
        "#대소문자 변경\n",
        "print(name.upper())\n",
        "print(name.lower())\n",
        "\n",
        "#공백 지우기\n",
        "print(name.strip())   #양쪽 공백 제거\n",
        "print(name.lstrip())  #왼쪽 공백 제거\n",
        "print(name.rstrip())  #오른쪽 공백 제거\n",
        "\n",
        "#문자열 바꾸기\n",
        "print(name.replace(\" \", \",\"))\n",
        "\n",
        "#문자열 삽입\n",
        "name = \",\".join(name.strip().replace(\" \", \"\"))\n",
        "\n",
        "#문자열 나누기\n",
        "print(name.split(\",\"))"
      ],
      "metadata": {
        "colab": {
          "base_uri": "https://localhost:8080/"
        },
        "id": "owjf1ZN2kUGk",
        "outputId": "bdd5c0ed-2b8f-45df-9dcc-10499f30205e"
      },
      "execution_count": 3,
      "outputs": [
        {
          "output_type": "stream",
          "name": "stdout",
          "text": [
            "이름을 입력하세요. a b c \n",
            " a b c \n",
            "7\n",
            "0\n",
            "-1\n",
            " A B C \n",
            " a b c \n",
            "a b c\n",
            "a b c \n",
            " a b c\n",
            ",a,b,c,\n",
            "['a', 'b', 'c']\n"
          ]
        }
      ]
    },
    {
      "cell_type": "markdown",
      "source": [
        "## 리스트(list)\n",
        "- 변수에 값을 저장할 때 [](대괄호)로 묶고 각 값을 ,(콤마)로 구분\n",
        "  - 요소(element): 리스트에 저장된 각 값"
      ],
      "metadata": {
        "id": "wWDPn_HMd3xC"
      }
    },
    {
      "cell_type": "code",
      "source": [
        "#빈리스트 만들기\n",
        "item1 = []\n",
        "item2 = list()\n",
        "\n",
        "#range()함수를 이용하여 만들기\n",
        "item1 = list(range(3))\n",
        "print(item1)\n",
        "\n",
        "item1 = list(range(1,4))\n",
        "print(item1)\n",
        "\n",
        "item2 = list(range(3, 0, -1))\n",
        "print(item2)\n",
        "\n",
        "#리스트 연산\n",
        "item3 = item1 + item2\n",
        "print(item3)\n",
        "\n",
        "item3 = item1 * 3\n",
        "print(item3)\n",
        "\n",
        "#리스트 값 수정\n",
        "item1[0] = 100\n",
        "print(item1)\n",
        "\n",
        "item2[:2] = [200, 300]\n",
        "print(item2)\n",
        "\n",
        "#리스트 값 삭제\n",
        "del(item3[:3])\n",
        "print(item3)"
      ],
      "metadata": {
        "colab": {
          "base_uri": "https://localhost:8080/"
        },
        "id": "hqu_YPNQlKQR",
        "outputId": "629df9e1-5927-4ea5-aca1-8780e4c3003a"
      },
      "execution_count": 4,
      "outputs": [
        {
          "output_type": "stream",
          "name": "stdout",
          "text": [
            "[0, 1, 2]\n",
            "[1, 2, 3]\n",
            "[3, 2, 1]\n",
            "[1, 2, 3, 3, 2, 1]\n",
            "[1, 2, 3, 1, 2, 3, 1, 2, 3]\n",
            "[100, 2, 3]\n",
            "[200, 300, 1]\n",
            "[1, 2, 3, 1, 2, 3]\n"
          ]
        }
      ]
    },
    {
      "cell_type": "markdown",
      "source": [
        "## 리스트관련 함수"
      ],
      "metadata": {
        "id": "iTIRSjcgd6C8"
      }
    },
    {
      "cell_type": "code",
      "source": [
        "item1 = [10, 2, 3]\n",
        "\n",
        "#리스트 자료 추가\n",
        "item1.append(4)\n",
        "print(item1)\n",
        "\n",
        "item1.append([5, 6])\n",
        "print(item1)\n",
        "\n",
        "#리스트 자료 삭제\n",
        "del(item1[4])\n",
        "print(item1)\n",
        "\n",
        "#리스트 요소 뒤집기\n",
        "item1.reverse()\n",
        "print(item1)\n",
        "\n",
        "#리스트 정렬\n",
        "item1.sort()\n",
        "print(item1)\n",
        "\n",
        "item1.sort(reverse = True)\n",
        "print(item1)\n",
        "\n",
        "#리스트 요소 찾기\n",
        "print(item1.index(10))  #없으면 오류\n",
        "\n",
        "#리스트 요소 추가\n",
        "item1.insert(2, 90)\n",
        "print(item1)\n",
        "\n",
        "#리스트 요소 제거\n",
        "item1.remove(4)\n",
        "print(item1)\n",
        "\n",
        "#리스트 끄집어 내고 삭제\n",
        "item1.pop()\n",
        "print(item1)\n",
        "\n",
        "item1.pop(0)\n",
        "print(item1)\n",
        "\n",
        "#리스트 확장\n",
        "item1.extend([3, 3, 3, 3])\n",
        "print(item1)\n",
        "\n",
        "#리스트 개수 세기\n",
        "print(item1.count(3))"
      ],
      "metadata": {
        "colab": {
          "base_uri": "https://localhost:8080/"
        },
        "id": "Ik1ZfpTylz_3",
        "outputId": "300f1a40-7122-4978-dab1-95b62caace04"
      },
      "execution_count": 5,
      "outputs": [
        {
          "output_type": "stream",
          "name": "stdout",
          "text": [
            "[10, 2, 3, 4]\n",
            "[10, 2, 3, 4, [5, 6]]\n",
            "[10, 2, 3, 4]\n",
            "[4, 3, 2, 10]\n",
            "[2, 3, 4, 10]\n",
            "[10, 4, 3, 2]\n",
            "0\n",
            "[10, 4, 90, 3, 2]\n",
            "[10, 90, 3, 2]\n",
            "[10, 90, 3]\n",
            "[90, 3]\n",
            "[90, 3, 3, 3, 3, 3]\n",
            "5\n"
          ]
        }
      ]
    },
    {
      "cell_type": "markdown",
      "source": [
        "## 해결문제\n",
        "\n",
        "[소스코드보기]()"
      ],
      "metadata": {
        "id": "FMnBPr3Gd8Fj"
      }
    },
    {
      "cell_type": "markdown",
      "source": [
        "## 튜플(tuple)\n",
        "- 변경할 수 없는 순서 있는 객체의 집합\n",
        "  - 리스트와 비슷하지만 한번 생성되면 변경할 수 없음\n",
        "- ()를 사용하여 정의\n",
        "- 자료추가"
      ],
      "metadata": {
        "id": "nie7gqP3d-GY"
      }
    },
    {
      "cell_type": "code",
      "source": [
        "t = (1, 2, 3)\n",
        "\n",
        "'''\n",
        "t[3] = 4\n",
        "t.append(4)\n",
        "t.extend((4))\n",
        "'''\n",
        "\n",
        "t = t + (4,)\n",
        "print(t)"
      ],
      "metadata": {
        "colab": {
          "base_uri": "https://localhost:8080/"
        },
        "id": "iW4QDyZomjlG",
        "outputId": "784f62b0-d29f-427d-ad81-ba5bdaa01d14"
      },
      "execution_count": 6,
      "outputs": [
        {
          "output_type": "stream",
          "name": "stdout",
          "text": [
            "(1, 2, 3, 4)\n"
          ]
        }
      ]
    },
    {
      "cell_type": "markdown",
      "source": [
        "## 딕셔너리(dictionary)\n",
        "- Key와 Value라는 것을 한 쌍으로 갖는 자료형\n",
        "- 리스트나 튜플처럼 순차적으로(sequential) 해당 요소값을 구하지 않고 Key를 통해 Value를 얻음\n",
        "- Key는 고유한 값이므로 중복되는 Key 값을 설정해 놓으면 하나를 제외한 나머지 것들이 모두 무시\n",
        "- {Key1:value1, Key2:Value2, Key3:Value3 ...}"
      ],
      "metadata": {
        "id": "DT3RqS7deALo"
      }
    },
    {
      "cell_type": "code",
      "source": [
        "dic = {}\n",
        "\n",
        "#값 추가\n",
        "dic['a'] = 1\n",
        "dic['b'] = 2\n",
        "\n",
        "print(dic)\n",
        "#해당 키값 가져오기\n",
        "print(dic['a'])\n",
        "\n",
        "#키 가져오기\n",
        "print(dic.keys())\n",
        "\n",
        "#키값 가져오기\n",
        "print(dic.values())\n",
        "\n",
        "#키와 값 쌍으로 가져오기\n",
        "print(dic.items())\n",
        "\n",
        "#전체 지우기\n",
        "dic.clear()\n",
        "print(dic)"
      ],
      "metadata": {
        "colab": {
          "base_uri": "https://localhost:8080/"
        },
        "id": "iYCM4L9LmviA",
        "outputId": "e057d31c-372a-422d-93e3-9cb4d86d491c"
      },
      "execution_count": 7,
      "outputs": [
        {
          "output_type": "stream",
          "name": "stdout",
          "text": [
            "{'a': 1, 'b': 2}\n",
            "1\n",
            "dict_keys(['a', 'b'])\n",
            "dict_values([1, 2])\n",
            "dict_items([('a', 1), ('b', 2)])\n",
            "{}\n"
          ]
        }
      ]
    },
    {
      "cell_type": "markdown",
      "source": [
        "## 파이썬 내장함수\n",
        "- sum(), max(), min()\n",
        "  - 입력으로 받은 리스트나 튜플의 모든 요소의 합, 최대, 최소값을 리턴하는 함수\n",
        "- zip() \n",
        "  - 동일한 개수로 이루어진 자료형을 묶어주는 역할을 하는 함수\n",
        "  - Dictionary의 {key:value} 중 value값으로 최대값과 최소값, 그리고 정렬을 하는 데 사용"
      ],
      "metadata": {
        "id": "apGJ9SRAeCNW"
      }
    },
    {
      "cell_type": "code",
      "source": [
        "list1 = ['a', 'b', 'c']\n",
        "list2 = [1, 3, 2]\n",
        "\n",
        "#합계\n",
        "print(sum(list2))\n",
        "#최대\n",
        "print(max(list2))\n",
        "#최소\n",
        "print(min(list)\n",
        "#정렬\n",
        "print(sorted(list2))\n",
        "\n",
        "#zip으로 리스트 만들기\n",
        "list3 = list(zip(list1, list2))\n",
        "print(list3)\n",
        "\n",
        "#zip으로 딕셔너리 만들기\n",
        "dict1 = dict(zip(list1, list2))\n",
        "print(dict1)\n",
        "\n",
        "#zip으로 최대값/최소값 찾기\n",
        "print(max(zip(dict1.values(), dict1.keys())))\n",
        "print(min(zip(dict1.values(), dict1.keys())))\n",
        "\n",
        "#zip으로 정렬\n",
        "print(sorted(zip(dict1.values(), dict1.keys())))"
      ],
      "metadata": {
        "id": "jWYzhlXPo5ck"
      },
      "execution_count": null,
      "outputs": []
    },
    {
      "cell_type": "markdown",
      "source": [
        "## 해결문제\n",
        "- 도별미세먼지.csv 파일을 읽어서 딕셔너리를 만들고 평균과 최대값을 가지는 도를 찾으시오.\n",
        "\n",
        "[소스코드보기]()"
      ],
      "metadata": {
        "id": "7CXParFfeD5_"
      }
    }
  ]
}
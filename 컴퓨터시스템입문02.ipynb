{
  "nbformat": 4,
  "nbformat_minor": 0,
  "metadata": {
    "colab": {
      "name": "컴퓨터시스템입문02.ipynb",
      "provenance": [],
      "collapsed_sections": [],
      "authorship_tag": "ABX9TyMHVEHNOlSv8KpNC5o7oJ1W",
      "include_colab_link": true
    },
    "kernelspec": {
      "name": "python3",
      "display_name": "Python 3"
    },
    "language_info": {
      "name": "python"
    }
  },
  "cells": [
    {
      "cell_type": "markdown",
      "metadata": {
        "id": "view-in-github",
        "colab_type": "text"
      },
      "source": [
        "<a href=\"https://colab.research.google.com/github/plumwiserim/Python-Programming/blob/master/%EC%BB%B4%ED%93%A8%ED%84%B0%EC%8B%9C%EC%8A%A4%ED%85%9C%EC%9E%85%EB%AC%B802.ipynb\" target=\"_parent\"><img src=\"https://colab.research.google.com/assets/colab-badge.svg\" alt=\"Open In Colab\"/></a>"
      ]
    },
    {
      "cell_type": "markdown",
      "source": [
        "## Python 명령해석\n",
        "- Python은 인터프리터(interpreter) 언어"
      ],
      "metadata": {
        "id": "5B2Za5dXcJm3"
      }
    },
    {
      "cell_type": "markdown",
      "source": [
        "## Python 표준출력\n",
        "- 출력함수: print()"
      ],
      "metadata": {
        "id": "Kyu7nUGGcXAB"
      }
    },
    {
      "cell_type": "code",
      "source": [
        "# 표준 출력\n",
        "print(\"Hello\")\n",
        "print(\"World!!\")\n",
        "\n",
        "# 한줄 연결 출력: end option\n",
        "print(\"Hello\", end=\" \")\n",
        "print(\"World!!\")\n",
        "\n",
        "print(\"Hello\", \"World!!\")\n",
        "print(\"Hello\"+\"World\")"
      ],
      "metadata": {
        "colab": {
          "base_uri": "https://localhost:8080/"
        },
        "id": "q1nyKRODgGkg",
        "outputId": "ae054ad3-b8ab-484d-f09d-451583c9d24c"
      },
      "execution_count": 1,
      "outputs": [
        {
          "output_type": "stream",
          "name": "stdout",
          "text": [
            "Hello\n",
            "World!!\n",
            "Hello World!!\n",
            "Hello World!!\n",
            "HelloWorld\n"
          ]
        }
      ]
    },
    {
      "cell_type": "markdown",
      "source": [
        "## Python 표준입력\n",
        "- 입력함수: input()\n",
        "  - 사용자가 어떤 값을 입력하게 하고, 그 값을 변수에 저장\n",
        "  - input(\"메시지\")\n"
      ],
      "metadata": {
        "id": "OIoclWT2cZMy"
      }
    },
    {
      "cell_type": "code",
      "source": [
        "# 표준 입력\n",
        "x = input()\n",
        "x = input(\"x 입력하세요\")\n",
        "\n",
        "y = input(\"y 입력하세요\")\n",
        "\n",
        "print(\"x=\", x)\n",
        "print(\"y=\", y)\n",
        "print(x, \"+\", y, \"=\", x+y)"
      ],
      "metadata": {
        "colab": {
          "base_uri": "https://localhost:8080/"
        },
        "id": "d5jHI-U1giNL",
        "outputId": "42f150d2-97f5-4d03-ee1a-038a8048488f"
      },
      "execution_count": 2,
      "outputs": [
        {
          "output_type": "stream",
          "name": "stdout",
          "text": [
            "3\n",
            "x 입력하세요10\n",
            "y 입력하세요20\n",
            "x= 10\n",
            "y= 20\n",
            "10 + 20 = 1020\n"
          ]
        }
      ]
    },
    {
      "cell_type": "markdown",
      "source": [
        "## Python 표준입력\n",
        "- 입력함수: input()\n",
        "  - 정수입력: int(input(\"메시지\"))\n",
        "  - 실수입력: float(input(\"메시지\"))"
      ],
      "metadata": {
        "id": "1ulcwiBrcnoZ"
      }
    },
    {
      "cell_type": "code",
      "source": [
        "x = int(input(\"x 입력하세요\"))\n",
        "y = int(input(\"y 입력하세요\"))\n",
        "\n",
        "print(\"x=\", x)\n",
        "print(\"y=\", y)\n",
        "print(x, \"+\", y, \"=\", x+y)20\n",
        "\n",
        "x = float(input(\"x 입력하세요\"))\n",
        "y = float(input(\"y 입력하세요\"))\n",
        "print(x, \"+\", y, \"=\", x+y)"
      ],
      "metadata": {
        "colab": {
          "base_uri": "https://localhost:8080/"
        },
        "id": "qtR8p_a5g0h1",
        "outputId": "798ac501-807e-41f8-d687-d85714c252b6"
      },
      "execution_count": 4,
      "outputs": [
        {
          "output_type": "stream",
          "name": "stdout",
          "text": [
            "x 입력하세요10\n",
            "y 입력하세요20\n",
            "x= 10\n",
            "y= 20\n",
            "10 + 20 = 30\n",
            "x 입력하세요10\n",
            "y 입력하세요20\n",
            "10.0 + 20.0 = 30.0\n"
          ]
        }
      ]
    },
    {
      "cell_type": "markdown",
      "source": [
        "## 해결문제\n",
        "- 명함을 작성하시오. \n",
        "\n",
        "[소스코드보기]()"
      ],
      "metadata": {
        "id": "LzihsSzUcj3u"
      }
    },
    {
      "cell_type": "markdown",
      "source": [
        "## 파일 생성\n",
        "- 파일 생성\n",
        "파일 객체 = open(파일 이름, 파일 열기 모드)\n",
        "\n",
        "- 파일 닫기\n",
        "파일 객체.close()"
      ],
      "metadata": {
        "id": "_FFfrwELdH7v"
      }
    },
    {
      "cell_type": "markdown",
      "source": [
        "## 파일 출력\n",
        "- 파일출력함수: write()\n",
        "  - 파일열기모드: w"
      ],
      "metadata": {
        "id": "u7qHoEHhdRI-"
      }
    },
    {
      "cell_type": "code",
      "source": [
        "f = open(\"test.txt\", \"w\")\n",
        "inData = input(\"기록내용을 입력하세요\")\n",
        "f.write(inData+\"\\n\")\n",
        "inData = input(\"기록내용을 입력하세요\")\n",
        "f.write(inData)\n",
        "f.close()"
      ],
      "metadata": {
        "colab": {
          "base_uri": "https://localhost:8080/"
        },
        "id": "_VqS-lPfh5aA",
        "outputId": "1ad63079-33f2-4215-8a0f-839b25660b2b"
      },
      "execution_count": 5,
      "outputs": [
        {
          "name": "stdout",
          "output_type": "stream",
          "text": [
            "기록내용을 입력하세요안녕하세요\n",
            "기록내용을 입력하세요반갑습니다\n"
          ]
        }
      ]
    },
    {
      "cell_type": "code",
      "source": [
        "f = open(\"test.txt\", \"a\")\n",
        "inData = input(\"기록내용을 입력하세요\")\n",
        "f.write(inData+\"\\n\")\n",
        "f.close()"
      ],
      "metadata": {
        "colab": {
          "base_uri": "https://localhost:8080/"
        },
        "id": "kVbf5l7wiQD0",
        "outputId": "62b97d56-f945-4775-af49-4f93a8e73738"
      },
      "execution_count": 6,
      "outputs": [
        {
          "name": "stdout",
          "output_type": "stream",
          "text": [
            "기록내용을 입력하세요안녕하세요\n"
          ]
        }
      ]
    },
    {
      "cell_type": "markdown",
      "source": [
        "## 파일 입력\n",
        "- 파일입려함수\n",
        "  - readline(): 파일의 첫번째 줄을 읽어 출력하는 경우\n",
        "  - readlines(): 파일의 모든 라인을 읽어서 각각의 줄을 요소로 갖는 리스트로 리턴\n",
        "  - f.read(): 파일의 내용 전체를 문자열로 리턴"
      ],
      "metadata": {
        "id": "jTb9fiqcdR8o"
      }
    },
    {
      "cell_type": "code",
      "source": [
        "inData = f.readline()\n",
        "print(inData)\n",
        "\n",
        "while True:\n",
        "  inData = f.readline()\n",
        "  if not inData : break\n",
        "  print(inData)"
      ],
      "metadata": {
        "id": "uWqQfJVei1sG"
      },
      "execution_count": null,
      "outputs": []
    },
    {
      "cell_type": "code",
      "source": [
        "inData = f.readlines()\n",
        "for line in inData:\n",
        "  print(line)"
      ],
      "metadata": {
        "id": "D_1NNl1WjHU1"
      },
      "execution_count": null,
      "outputs": []
    },
    {
      "cell_type": "code",
      "source": [
        "inData = f.read()\n",
        "print(inData)"
      ],
      "metadata": {
        "id": "zjp14qD3jMvh"
      },
      "execution_count": null,
      "outputs": []
    },
    {
      "cell_type": "markdown",
      "source": [
        "## 해결문제\n",
        "- 성명과 파이썬, C성적을 입력받아서 합계를 계산하여 파일을 생성하세요.\n",
        "  - 단, 누적해서 파일 생성\n",
        "  \n",
        "[소스코드보기]()"
      ],
      "metadata": {
        "id": "7OljEUgidU03"
      }
    },
    {
      "cell_type": "markdown",
      "source": [
        "## 해결문제\n",
        "- 주어진 dust201809.txt는 2018년 09월 지역별 미세먼지 대기오염이다. 대기오염 평균을 구하시오."
      ],
      "metadata": {
        "id": "WgGd6KWsjTT1"
      }
    }
  ]
}
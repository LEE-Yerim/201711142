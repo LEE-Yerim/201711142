{
  "nbformat": 4,
  "nbformat_minor": 0,
  "metadata": {
    "colab": {
      "name": "컴퓨터시스템입문04.ipynb",
      "provenance": [],
      "collapsed_sections": [],
      "authorship_tag": "ABX9TyOafODvMmeLLRDSBQyKYSjd",
      "include_colab_link": true
    },
    "kernelspec": {
      "name": "python3",
      "display_name": "Python 3"
    },
    "language_info": {
      "name": "python"
    }
  },
  "cells": [
    {
      "cell_type": "markdown",
      "metadata": {
        "id": "view-in-github",
        "colab_type": "text"
      },
      "source": [
        "<a href=\"https://colab.research.google.com/github/plumwiserim/Python-Programming/blob/master/%EC%BB%B4%ED%93%A8%ED%84%B0%EC%8B%9C%EC%8A%A4%ED%85%9C%EC%9E%85%EB%AC%B804.ipynb\" target=\"_parent\"><img src=\"https://colab.research.google.com/assets/colab-badge.svg\" alt=\"Open In Colab\"/></a>"
      ]
    },
    {
      "cell_type": "markdown",
      "source": [
        "## 조건문: if\n",
        "\n",
        "- if 조건문 뒤에는 반드시 콜론(:)\n",
        "- if 조건문: 바로 아래 문장부터 if문에 속하는 모든 문장에 들여쓰기(indentation)를 해야 함\n",
        "- 파이썬에는 다른 언어에 있는 switch 문이 존재하지 않음\n",
        "- switch 문 기능은 if...elif...elif... 문으로 수행\n",
        "- pass\n",
        "  - def 문이나 if 문처럼 코드 블록을 본문으로 갖는 표현에서 본문을 비워 둘 때 사용"
      ],
      "metadata": {
        "id": "4KpoYjQfeOv3"
      }
    },
    {
      "cell_type": "code",
      "source": [
        "if x < 10:\n",
        "  print(x)\n",
        "  print(\"한자리수\")\n",
        "\n",
        "#한 라인에서 표현된 if문\n",
        "if x < 100 : print(x)"
      ],
      "metadata": {
        "id": "B4wBlnFyqEFz"
      },
      "execution_count": null,
      "outputs": []
    },
    {
      "cell_type": "code",
      "source": [
        "x = 10\n",
        "if x < 10:\n",
        "  print(\"한자리수\")\n",
        "elif x < 100:\n",
        "  print(\"두자리수\")\n",
        "else:\n",
        "  print(\"세자리 이상\")"
      ],
      "metadata": {
        "colab": {
          "base_uri": "https://localhost:8080/"
        },
        "id": "A740QTaVqOTH",
        "outputId": "10cfd12d-192d-4b37-cde7-557735ad6ab6"
      },
      "execution_count": null,
      "outputs": [
        {
          "output_type": "stream",
          "name": "stdout",
          "text": [
            "두자리수\n"
          ]
        }
      ]
    },
    {
      "cell_type": "code",
      "source": [
        "if n < 10:\n",
        "  pass\n",
        "else:\n",
        "  print(n)"
      ],
      "metadata": {
        "id": "eQbIA1DuqWu5"
      },
      "execution_count": null,
      "outputs": []
    },
    {
      "cell_type": "markdown",
      "source": [
        "## 비교연산자/논리연산자/in연산자"
      ],
      "metadata": {
        "id": "CK_zj6J9eR4l"
      }
    },
    {
      "cell_type": "markdown",
      "source": [
        "## 파이썬 랜덤 모듈\n",
        "- 난수(random number)를 사용하기 위해서는 기본적으로 제공되는 random 모듈을 사용\n",
        "  - import random\n",
        "  - random(): 0부터 1 사이의 부동소수점(float) 숫자를 리턴\n",
        "  - randint(최소, 최대): 입력 파라미터인 최소부터 최대까지 중 임의의 정수를 리턴\n",
        "  - uniform(최소, 최대): 입력 파라미터인 최소부터 최대까지 중 임의의 부동소수점(float) 숫자를 리턴\n",
        "  - randrange(시작, 끝[, 간격]): 입력 파라미터인 시작부터 끝 값까지 (지정된 간격으로 나열된) 숫자 중 임의의 정수를 리턴\n",
        "  - sample(컬렉션, 샘플수): 지정된 컬렉션으로부터 샘플수만큼 랜덤 추출을 하는 함수\n",
        "  - shuffle(L): 전달받은 시퀀스 자료형 변수 내용을 임의의 순서대로(랜덤으로) 섞음"
      ],
      "metadata": {
        "id": "6YqbnRC1eT3z"
      }
    },
    {
      "cell_type": "code",
      "source": [
        "import random as r\n",
        "\n",
        "#0부터 1 사이의 부동소수점(float) 숫자를 리턴\n",
        "rnum = r.random()\n",
        "print(rnum)\n",
        "\n",
        "#입력 파라미터인 최소부터 최대까지 중 임의의 정수를 리턴\n",
        "rnum = r.randint(1, 10)\n",
        "print(rnum)\n",
        "\n",
        "#입력 파라미터인 최소부터 최대까지 중 임의의 부동소수점(float) 숫자를 리턴\n",
        "rnum = r.uniform(100, 200)\n",
        "print(rnum)\n",
        "\n",
        "#입력 파라미터인 시작부터 끝값까지 (지정된 간격으로 나열된)\n",
        "# 숫자 중 임의의 정수를 리턴\n",
        "rnum = r.randrange(10, 100)\n",
        "print(rnum)\n",
        "\n",
        "rnum = r.randrange(10, 100, 2)\n",
        "print(rnum)\n",
        "\n",
        "#지정된 컬렉션으로부터 샘플수만큼 랜덤 추출을 하는 함수\n",
        "rlist = r.sample(range(1,101), 5)\n",
        "print(rlist)\n",
        "\n",
        "#전달받은 시퀀스 자료형 변수 내용을 임의의 순서대로(랜덤으로) 섞음\n",
        "r.shuffle(rlist)\n",
        "print(rlist)"
      ],
      "metadata": {
        "colab": {
          "base_uri": "https://localhost:8080/"
        },
        "id": "e4AI5MuDqbuq",
        "outputId": "6de833ab-a790-4fbf-ae85-631901d03780"
      },
      "execution_count": null,
      "outputs": [
        {
          "output_type": "stream",
          "name": "stdout",
          "text": [
            "0.6978957132017511\n",
            "9\n",
            "124.01541403959851\n",
            "57\n",
            "34\n",
            "[83, 80, 75, 97, 76]\n",
            "[83, 80, 97, 75, 76]\n"
          ]
        }
      ]
    },
    {
      "cell_type": "markdown",
      "source": [
        "## 해결문제\n",
        "- 홀짝게임\n",
        "  - 컴퓨터에서 랜덤으로 발생된 수를 이용하여 홀/짝을 입력하여 맞았는지 틀렸는지 확인\n",
        "  \n",
        "[소스코드보기]()"
      ],
      "metadata": {
        "id": "yQDMWjg-eV9z"
      }
    },
    {
      "cell_type": "markdown",
      "source": [
        "## range() 함수\n",
        "  - range() 함수\n",
        "    - 정수 범위를 표현\n",
        "    - 시작 숫자와 끝 숫자를 지정했을 때 끝 숫자는 범위에 포함되지 않음"
      ],
      "metadata": {
        "id": "QgDc4cY-ehpw"
      }
    },
    {
      "cell_type": "markdown",
      "source": [
        "## 반복문 - for\n",
        "- for\n",
        "  - 컬렉션으로부터 하나씩 요소(element)를 가져와, 루프 내의 문장들을 실행\n",
        "  - 리스트, Tuple, 문자열 등의 컬렉션"
      ],
      "metadata": {
        "id": "6ogkyBQGeeP-"
      }
    },
    {
      "cell_type": "code",
      "source": [
        "sum = 0\n",
        "for i in range(11):\n",
        "  sum += i\n",
        "print(sum)"
      ],
      "metadata": {
        "colab": {
          "base_uri": "https://localhost:8080/"
        },
        "id": "1X7uKqZLrLJR",
        "outputId": "eb8cb9cc-c03a-41d1-f037-bb1d4c72317b"
      },
      "execution_count": null,
      "outputs": [
        {
          "output_type": "stream",
          "name": "stdout",
          "text": [
            "55\n"
          ]
        }
      ]
    },
    {
      "cell_type": "markdown",
      "source": [
        "## 반복문 while\n",
        "- while\n",
        "  - while 키워드 다음의 조건식이 참일 경우 계속 while 안의 블럭을 실행"
      ],
      "metadata": {
        "id": "njveJcVEegwn"
      }
    },
    {
      "cell_type": "code",
      "source": [
        "sum = 0\n",
        "i = 1\n",
        "while i <= 10:\n",
        "  sum = sum + i\n",
        "  print(i)\n",
        "  i = i + 1\n",
        "print(\"합계 : \" + str(sum))"
      ],
      "metadata": {
        "colab": {
          "base_uri": "https://localhost:8080/"
        },
        "id": "bOii816RrTES",
        "outputId": "b1dabd77-2e20-4449-d9d0-2c85380c01ca"
      },
      "execution_count": null,
      "outputs": [
        {
          "output_type": "stream",
          "name": "stdout",
          "text": [
            "1\n",
            "2\n",
            "3\n",
            "4\n",
            "5\n",
            "6\n",
            "7\n",
            "8\n",
            "9\n",
            "10\n",
            "합계 : 55\n"
          ]
        }
      ]
    },
    {
      "cell_type": "markdown",
      "source": [
        "## break/continue\n",
        "- break문\n",
        "  - 반복문 안에서 루프를 빠져나오기 위해 사용\n",
        "- continue문\n",
        "  - 루프 블럭의 나머지 문장들을 실행하지 않고 다음 루프로 직접 돌아가게 함"
      ],
      "metadata": {
        "id": "tGc9LZdkerIa"
      }
    },
    {
      "cell_type": "code",
      "source": [
        "# 반복문\n",
        "\n",
        "for i in range(1, 101):\n",
        "  if (i%2 == 1) : continue\n",
        "  if (i > 10) : break\n",
        "  print(i)"
      ],
      "metadata": {
        "colab": {
          "base_uri": "https://localhost:8080/"
        },
        "id": "2QDDXbulrdW-",
        "outputId": "38ca868d-4b30-4435-e08f-9176e7b0e28c"
      },
      "execution_count": null,
      "outputs": [
        {
          "output_type": "stream",
          "name": "stdout",
          "text": [
            "2\n",
            "4\n",
            "6\n",
            "8\n",
            "10\n"
          ]
        }
      ]
    },
    {
      "cell_type": "markdown",
      "source": [
        "## 해결문제\n",
        "- 단을 입력받아서 해당하는 단의 구구단을 출력하시오.\n",
        "  - 단은 2단에서 9단까지만 입력\n",
        "  - 그 외 입력되면 종료하고\n",
        "  - 그렇지 않을 경우 계속 입력\n",
        "\n",
        "[소스코드보기]()"
      ],
      "metadata": {
        "id": "rYx81jlKeuv9"
      }
    },
    {
      "cell_type": "markdown",
      "source": [
        "## 해결문제 - UP/DOWN 게임 만들기\n",
        "- 1에서 20까지 랜덤 수를 생성하고 맞추기\n",
        "- [문제분석]\n",
        "  - 사용자 입력\n",
        "    - 1보다 작은 경우나 20보다 큰 경우는 입력오류\n",
        "    - 입력 값이 랜덤 수와 같지 않으면 계속 입력\n",
        "  - 생성된 랜덤 수와 사용자 입력이 같으면 종료\n",
        "  - 생성된 랜덤 수보다 사용자 입력 수가 작으면 UP\n",
        "  - 생성된 랜덤 수보다 사용자 입력 수가 크면 DOWN\n",
        "\n",
        "[소스코드보기]()"
      ],
      "metadata": {
        "id": "0MMrgR2HewxH"
      }
    }
  ]
}
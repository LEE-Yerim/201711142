{
  "nbformat": 4,
  "nbformat_minor": 0,
  "metadata": {
    "colab": {
      "name": "Untitled0.ipynb",
      "provenance": [],
      "authorship_tag": "ABX9TyNgsKZSQYocMn9xaSYu0tO6",
      "include_colab_link": true
    },
    "kernelspec": {
      "name": "python3",
      "display_name": "Python 3"
    },
    "language_info": {
      "name": "python"
    }
  },
  "cells": [
    {
      "cell_type": "markdown",
      "metadata": {
        "id": "view-in-github",
        "colab_type": "text"
      },
      "source": [
        "<a href=\"https://colab.research.google.com/github/plumwiserim/Python-Programming/blob/master/%EC%BB%B4%ED%93%A8%ED%84%B0%EC%8B%9C%EC%8A%A4%ED%85%9C%EC%9E%85%EB%AC%B801.ipynb\" target=\"_parent\"><img src=\"https://colab.research.google.com/assets/colab-badge.svg\" alt=\"Open In Colab\"/></a>"
      ]
    },
    {
      "cell_type": "markdown",
      "source": [
        "## 교과목 개요\n",
        "\n",
        "### 교과목 개요\n",
        "- 컴퓨터 시스템의 기초 개념\n",
        "- 파이썬 기초 문법을 학습하고 주어진 과제를 작성\n",
        "- 주어진 과제를 해결하면서 컴퓨팅사고력을 향상\n",
        "\n",
        "### 평가방법\n",
        "- 출석(10%)\n",
        "- 중간고사(30%), 기말고사(30%)\n",
        "- 과제(30%)"
      ],
      "metadata": {
        "id": "dEoMDld2aJ0s"
      }
    },
    {
      "cell_type": "markdown",
      "source": [
        "## 운영체제\n",
        "\n",
        "### 운영체제(OS, Operating System)\n",
        "- 사용자가 컴퓨터를 쉽게 다루게 해주는 인터페이스\n",
        "- 컴퓨터의 소프트웨어 시스템과 하드웨어 시스템 간의 상호 작용을 관리하는 시스템의 주요 소프트웨어\n",
        "\n",
        "### 운영 체제 종류\n",
        "- Windows, Mac, Linux, Android ..."
      ],
      "metadata": {
        "id": "jgY3tyL0aOr-"
      }
    },
    {
      "cell_type": "markdown",
      "source": [
        "## Window\n",
        "- 컴퓨터 기본 정보 보기\n",
        "제어판 - 모든 제어판 항목 - 시스템"
      ],
      "metadata": {
        "id": "EJ_-x3hWaXCW"
      }
    },
    {
      "cell_type": "markdown",
      "source": [
        "## Windows 장치 관리자(Device Manager)\n",
        "- PC와 주변 디바이스 장치 예를 들면 CPU, 하드 디스크, 그래픽 카드, 사운드 카드, 마우스 등의 연결 상태를 표시하거나 드라이버의 추가, 삭제, 변경 등을 관리하는 도구"
      ],
      "metadata": {
        "id": "DD73b-tyaZtu"
      }
    },
    {
      "cell_type": "markdown",
      "source": [
        "## Window 탐색기\n",
        "- 마이크로소프트 윈도우 환경에서의 GUI 셸\n",
        "- 그래픽 사용자 인터페이스를 제공하여 파일 시스템에 접근"
      ],
      "metadata": {
        "id": "e-yIfNugacSW"
      }
    },
    {
      "cell_type": "markdown",
      "source": [
        "## Window CLI(Command-Line Interface)\n",
        "- CLI(Command-Line Interface)\n",
        "  - 터미널을 통해 사용자와 컴퓨터가 상호작용하는 방식을 뜻한다\n",
        "- Window CLI\n",
        "  - CMD\n",
        "    - 키보드로 명령어를 입력하여 Windows 동작이나 설정하는 도구\n",
        "    - cmd\n",
        "  - 윈도우 파워셸(Windows PowerShell)\n",
        "    - 마이크로소프트가 개발한 확장 가능한 명령 줄 인터페이스(CLI)\n",
        "    - 시스템 관리자 및 고급 사용자는 운영체제 및 프로세르를 관리하는 작업\n",
        "    - Powershell, ise"
      ],
      "metadata": {
        "id": "O9VEp9uFaeXs"
      }
    },
    {
      "cell_type": "markdown",
      "source": [
        "## Window CMD 명령어\n",
        "CD, CHDIR : 현재 디렉터리 이름을 보여주거나 바꿈\n",
        "\n",
        "COPY : 하나 이상의 파일을 다른 위치로 복사 \n",
        "\n",
        "DEL : 하나 이상의 파일을 지움\n",
        "\n",
        "DIR : 디렉터리에 있는 파일과 하위 디렉터리 목록을 보여줌\n",
        "\n",
        "MD : 디렉터리를 만듬\n",
        "\n",
        "MKDIR : 디렉터리를 만듬\n",
        "\n",
        "MOVE : 하나 이상의 파일을 한 디렉터리에서 다른 디렉터리로 옮김\n",
        "\n",
        "RD, RMDIR : 디렉터리를 지움\n",
        "\n",
        "REN, RENAME : 파일 이름을 바꿈\n",
        "\n",
        "TREE : 드라이브 또는 경로의 디렉터리 구조를 그래픽으로 화면에 표시\n",
        "\n",
        "CLS CMD : 화면에 표시된 것을 모두 지움\n",
        "\n",
        "CHKDSK : 디스크를 검사하고 상태 보고서를 표시\n",
        "\n",
        "PATH : 실행 파일의 찾기 경로를 보여주거나 설정\n",
        "\n",
        "IPCONFIG : 윈도우 TCP/IP 설정상태 확인 명령어"
      ],
      "metadata": {
        "id": "Gr82BkI0ahRH"
      }
    },
    {
      "cell_type": "markdown",
      "source": [
        "## Window 명령어\n",
        "- msconfig\n",
        "  - 윈도우 시동 절차의 문제를 해결하는 데 사용하는 유틸리피 소프트웨어\n",
        "- regedit\n",
        "  - 레지스트리 편집기, 레지스트리는 운영체제의 설정을 담고 있는 데이터베이스\n",
        "- compmgmt\n",
        "  - 컴퓨터관리\n",
        "- taskmgr\n",
        "  - 윈도우 작업 관리자"
      ],
      "metadata": {
        "id": "qPNI-iTWajaF"
      }
    },
    {
      "cell_type": "code",
      "source": [
        ""
      ],
      "metadata": {
        "id": "7yCLKKeWaVpL"
      },
      "execution_count": null,
      "outputs": []
    }
  ]
}